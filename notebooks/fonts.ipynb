{
 "cells": [
  {
   "cell_type": "markdown",
   "id": "a00e914a-66bc-4a4c-a0da-c54d19dae031",
   "metadata": {},
   "source": [
    "# Fonts"
   ]
  },
  {
   "attachments": {},
   "cell_type": "markdown",
   "id": "680a30b1-e749-4507-ac4f-1fd4601e7306",
   "metadata": {},
   "source": [
    "In stemplot, we use Helvetica or Arial by default. If your machine installed Helvetica, we use Helvetica, otherwise, Arial will be picked. you can use `is_arial_installed()` or `is_heletica_installed()` to check if you have installed these fonts."
   ]
  },
  {
   "cell_type": "code",
   "execution_count": 18,
   "id": "23ac33ff-5248-40b1-bc5c-34234dada7c3",
   "metadata": {
    "execution": {
     "iopub.execute_input": "2025-06-23T03:03:11.721962Z",
     "iopub.status.busy": "2025-06-23T03:03:11.721962Z",
     "iopub.status.idle": "2025-06-23T03:03:11.726404Z",
     "shell.execute_reply": "2025-06-23T03:03:11.726404Z",
     "shell.execute_reply.started": "2025-06-23T03:03:11.721962Z"
    }
   },
   "outputs": [],
   "source": [
    "from stemplot.fonts import is_arial_installed\n",
    "from stemplot.fonts import is_helvetica_installed"
   ]
  },
  {
   "cell_type": "code",
   "execution_count": 19,
   "id": "86865ec3-8919-4d20-bd7f-a3daf7a3bcad",
   "metadata": {
    "execution": {
     "iopub.execute_input": "2025-06-23T03:03:11.952413Z",
     "iopub.status.busy": "2025-06-23T03:03:11.952413Z",
     "iopub.status.idle": "2025-06-23T03:03:11.957411Z",
     "shell.execute_reply": "2025-06-23T03:03:11.957411Z",
     "shell.execute_reply.started": "2025-06-23T03:03:11.952413Z"
    }
   },
   "outputs": [
    {
     "data": {
      "text/plain": [
       "False"
      ]
     },
     "execution_count": 19,
     "metadata": {},
     "output_type": "execute_result"
    }
   ],
   "source": [
    "is_helvetica_installed() # my machine dose not have Helvetica installed"
   ]
  },
  {
   "cell_type": "code",
   "execution_count": 20,
   "id": "baf7ac7a-0fc0-4957-8fb5-f0ae42422675",
   "metadata": {
    "execution": {
     "iopub.execute_input": "2025-06-23T03:03:12.333926Z",
     "iopub.status.busy": "2025-06-23T03:03:12.333926Z",
     "iopub.status.idle": "2025-06-23T03:03:12.338447Z",
     "shell.execute_reply": "2025-06-23T03:03:12.338447Z",
     "shell.execute_reply.started": "2025-06-23T03:03:12.333926Z"
    }
   },
   "outputs": [
    {
     "data": {
      "text/plain": [
       "True"
      ]
     },
     "execution_count": 20,
     "metadata": {},
     "output_type": "execute_result"
    }
   ],
   "source": [
    "is_arial_installed() # Arial is installed"
   ]
  },
  {
   "cell_type": "markdown",
   "id": "0cd150fa-5483-4cfd-a747-fa4f80f1b444",
   "metadata": {},
   "source": [
    "You can also use `which_fonts()` to check what fonts are used in your figure."
   ]
  },
  {
   "cell_type": "code",
   "execution_count": 23,
   "id": "405d5d6b-87c8-4692-b3f3-738c331354cb",
   "metadata": {
    "execution": {
     "iopub.execute_input": "2025-06-23T03:04:01.901379Z",
     "iopub.status.busy": "2025-06-23T03:04:01.901379Z",
     "iopub.status.idle": "2025-06-23T03:04:02.089446Z",
     "shell.execute_reply": "2025-06-23T03:04:02.089446Z",
     "shell.execute_reply.started": "2025-06-23T03:04:01.901379Z"
    }
   },
   "outputs": [
    {
     "data": {
      "text/plain": [
       "[<matplotlib.lines.Line2D at 0x1e5ee623470>]"
      ]
     },
     "execution_count": 23,
     "metadata": {},
     "output_type": "execute_result"
    },
    {
     "data": {
      "image/png": "[encoded data removed]",
      "text/plain": [
       "<Figure size 360x280 with 1 Axes>"
      ]
     },
     "metadata": {},
     "output_type": "display_data"
    }
   ],
   "source": [
    "%matplotlib inline\n",
    "import numpy as np\n",
    "import matplotlib.pyplot as plt\n",
    "\n",
    "fig, ax = plt.subplots(1, 1, figsize=(3.6, 2.8))\n",
    "x = np.linspace(0, 10, 500)\n",
    "y = np.sin(x)\n",
    "ax.plot(x, y)"
   ]
  },
  {
   "cell_type": "code",
   "execution_count": 26,
   "id": "1439e866-5260-4cf5-b951-7ed8fc42f550",
   "metadata": {
    "execution": {
     "iopub.execute_input": "2025-06-23T03:10:57.972527Z",
     "iopub.status.busy": "2025-06-23T03:10:57.972527Z",
     "iopub.status.idle": "2025-06-23T03:10:57.981005Z",
     "shell.execute_reply": "2025-06-23T03:10:57.981005Z",
     "shell.execute_reply.started": "2025-06-23T03:10:57.972527Z"
    }
   },
   "outputs": [
    {
     "name": "stdout",
     "output_type": "stream",
     "text": [
      "Axes 1 Title \"\" → Arial\n",
      "Axes 1 X label \"\" → Arial\n",
      "Axes 1 Y label \"\" → Arial\n",
      "Axes 1 X-tick \"−2\" → Arial\n",
      "Axes 1 X-tick \"0\" → Arial\n",
      "Axes 1 X-tick \"2\" → Arial\n",
      "Axes 1 X-tick \"4\" → Arial\n",
      "Axes 1 X-tick \"6\" → Arial\n",
      "Axes 1 X-tick \"8\" → Arial\n",
      "Axes 1 X-tick \"10\" → Arial\n",
      "Axes 1 X-tick \"12\" → Arial\n",
      "Axes 1 Y-tick \"−1.25\" → Arial\n",
      "Axes 1 Y-tick \"−1.00\" → Arial\n",
      "Axes 1 Y-tick \"−0.75\" → Arial\n",
      "Axes 1 Y-tick \"−0.50\" → Arial\n",
      "Axes 1 Y-tick \"−0.25\" → Arial\n",
      "Axes 1 Y-tick \"0.00\" → Arial\n",
      "Axes 1 Y-tick \"0.25\" → Arial\n",
      "Axes 1 Y-tick \"0.50\" → Arial\n",
      "Axes 1 Y-tick \"0.75\" → Arial\n",
      "Axes 1 Y-tick \"1.00\" → Arial\n",
      "Axes 1 Y-tick \"1.25\" → Arial\n"
     ]
    }
   ],
   "source": [
    "from stemplot.fonts import which_fonts\n",
    "\n",
    "myfonts = which_fonts(fig)"
   ]
  },
  {
   "cell_type": "code",
   "execution_count": null,
   "id": "5cb92a54-5e93-4f03-8039-e82db4d8fa72",
   "metadata": {},
   "outputs": [],
   "source": []
  }
 ],
 "metadata": {
  "kernelspec": {
   "display_name": "Python 3 (ipykernel)",
   "language": "python",
   "name": "python3"
  },
  "language_info": {
   "codemirror_mode": {
    "name": "ipython",
    "version": 3
   },
   "file_extension": ".py",
   "mimetype": "text/x-python",
   "name": "python",
   "nbconvert_exporter": "python",
   "pygments_lexer": "ipython3",
   "version": "3.12.10"
  }
 },
 "nbformat": 4,
 "nbformat_minor": 5
}
