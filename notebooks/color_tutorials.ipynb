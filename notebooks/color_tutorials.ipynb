{
 "cells": [
  {
   "cell_type": "code",
   "execution_count": 1,
   "id": "1e912a40-ec6d-4021-8c6d-6935ffad90f5",
   "metadata": {
    "execution": {
     "iopub.execute_input": "2025-06-19T06:06:01.404990Z",
     "iopub.status.busy": "2025-06-19T06:06:01.404990Z",
     "iopub.status.idle": "2025-06-19T06:06:02.730996Z",
     "shell.execute_reply": "2025-06-19T06:06:02.730996Z",
     "shell.execute_reply.started": "2025-06-19T06:06:01.404990Z"
    }
   },
   "outputs": [
    {
     "ename": "ModuleNotFoundError",
     "evalue": "No module named 'matplotlib.colormaps'",
     "output_type": "error",
     "traceback": [
      "\u001B[31m---------------------------------------------------------------------------\u001B[39m",
      "\u001B[31mModuleNotFoundError\u001B[39m                       Traceback (most recent call last)",
      "\u001B[36mCell\u001B[39m\u001B[36m \u001B[39m\u001B[32mIn[1]\u001B[39m\u001B[32m, line 1\u001B[39m\n\u001B[32m----> \u001B[39m\u001B[32m1\u001B[39m \u001B[38;5;28;01mfrom\u001B[39;00m\u001B[38;5;250m \u001B[39m\u001B[34;01mstemplot\u001B[39;00m\u001B[34;01m.\u001B[39;00m\u001B[34;01mcolors\u001B[39;00m\u001B[38;5;250m \u001B[39m\u001B[38;5;28;01mimport\u001B[39;00m color_palette\n",
      "\u001B[36mFile \u001B[39m\u001B[32md:\\dropbox\\released projects\\stemplot\\stemplot\\__init__.py:30\u001B[39m\n\u001B[32m     26\u001B[39m layout = _LazyLoader(\u001B[33m'\u001B[39m\u001B[33mstemplot.layout\u001B[39m\u001B[33m'\u001B[39m)\n\u001B[32m     28\u001B[39m \u001B[38;5;66;03m# Explicit imports for frequently used functions or classes\u001B[39;00m\n\u001B[32m     29\u001B[39m \u001B[38;5;66;03m# These are assumed to be lightweight and commonly used enough to justify immediate loading.\u001B[39;00m\n\u001B[32m---> \u001B[39m\u001B[32m30\u001B[39m \u001B[38;5;28;01mfrom\u001B[39;00m\u001B[38;5;250m \u001B[39m\u001B[34;01mstemplot\u001B[39;00m\u001B[34;01m.\u001B[39;00m\u001B[34;01mcolors\u001B[39;00m\u001B[34;01m.\u001B[39;00m\u001B[34;01m_colors\u001B[39;00m\u001B[38;5;250m \u001B[39m\u001B[38;5;28;01mimport\u001B[39;00m colors_from_lbs  \u001B[38;5;66;03m# Assuming colors_from_lbs is lightweight\u001B[39;00m\n\u001B[32m     31\u001B[39m \u001B[38;5;28;01mfrom\u001B[39;00m\u001B[38;5;250m \u001B[39m\u001B[34;01mstemplot\u001B[39;00m\u001B[34;01m.\u001B[39;00m\u001B[34;01mlayout\u001B[39;00m\u001B[34;01m.\u001B[39;00m\u001B[34;01m_layout\u001B[39;00m\u001B[38;5;250m \u001B[39m\u001B[38;5;28;01mimport\u001B[39;00m h_axes\n\u001B[32m     32\u001B[39m \u001B[38;5;28;01mfrom\u001B[39;00m\u001B[38;5;250m \u001B[39m\u001B[34;01mstemplot\u001B[39;00m\u001B[34;01m.\u001B[39;00m\u001B[34;01mpatches\u001B[39;00m\u001B[34;01m.\u001B[39;00m\u001B[34;01m_polygon\u001B[39;00m\u001B[38;5;250m \u001B[39m\u001B[38;5;28;01mimport\u001B[39;00m ax_add_gradient_polygon\n",
      "\u001B[36mFile \u001B[39m\u001B[32md:\\dropbox\\released projects\\stemplot\\stemplot\\colors\\__init__.py:7\u001B[39m\n\u001B[32m      5\u001B[39m \u001B[38;5;28;01mfrom\u001B[39;00m\u001B[38;5;250m \u001B[39m\u001B[34;01m.\u001B[39;00m\u001B[34;01m_colors_labels\u001B[39;00m\u001B[38;5;250m \u001B[39m\u001B[38;5;28;01mimport\u001B[39;00m colors_from_lbs\n\u001B[32m      6\u001B[39m \u001B[38;5;28;01mfrom\u001B[39;00m\u001B[38;5;250m \u001B[39m\u001B[34;01m.\u001B[39;00m\u001B[34;01m_colors_labels\u001B[39;00m\u001B[38;5;250m \u001B[39m\u001B[38;5;28;01mimport\u001B[39;00m reassign_lbs\n\u001B[32m----> \u001B[39m\u001B[32m7\u001B[39m \u001B[38;5;28;01mfrom\u001B[39;00m\u001B[38;5;250m \u001B[39m\u001B[34;01m.\u001B[39;00m\u001B[34;01m_colormaps\u001B[39;00m\u001B[38;5;250m \u001B[39m\u001B[38;5;28;01mimport\u001B[39;00m color_palette\n\u001B[32m      8\u001B[39m \u001B[38;5;28;01mfrom\u001B[39;00m\u001B[38;5;250m \u001B[39m\u001B[34;01m.\u001B[39;00m\u001B[34;01m_colormaps\u001B[39;00m\u001B[38;5;250m \u001B[39m\u001B[38;5;28;01mimport\u001B[39;00m color_mix\n\u001B[32m      9\u001B[39m \u001B[38;5;28;01mfrom\u001B[39;00m\u001B[38;5;250m \u001B[39m\u001B[34;01m.\u001B[39;00m\u001B[34;01m_colormaps\u001B[39;00m\u001B[38;5;250m \u001B[39m\u001B[38;5;28;01mimport\u001B[39;00m get_cmap_from_colors\n",
      "\u001B[36mFile \u001B[39m\u001B[32md:\\dropbox\\released projects\\stemplot\\stemplot\\colors\\_colormaps.py:5\u001B[39m\n\u001B[32m      3\u001B[39m \u001B[38;5;28;01mimport\u001B[39;00m\u001B[38;5;250m \u001B[39m\u001B[34;01mcolorsys\u001B[39;00m\n\u001B[32m      4\u001B[39m \u001B[38;5;28;01mimport\u001B[39;00m\u001B[38;5;250m \u001B[39m\u001B[34;01mmatplotlib\u001B[39;00m\u001B[34;01m.\u001B[39;00m\u001B[34;01mcolors\u001B[39;00m\u001B[38;5;250m \u001B[39m\u001B[38;5;28;01mas\u001B[39;00m\u001B[38;5;250m \u001B[39m\u001B[34;01mmc\u001B[39;00m\n\u001B[32m----> \u001B[39m\u001B[32m5\u001B[39m \u001B[38;5;28;01mimport\u001B[39;00m\u001B[38;5;250m \u001B[39m\u001B[34;01mmatplotlib\u001B[39;00m\u001B[34;01m.\u001B[39;00m\u001B[34;01mcolormaps\u001B[39;00m\u001B[38;5;250m \u001B[39m\u001B[38;5;28;01mas\u001B[39;00m\u001B[38;5;250m \u001B[39m\u001B[34;01mcm\u001B[39;00m\n\u001B[32m      8\u001B[39m \u001B[38;5;28;01mdef\u001B[39;00m\u001B[38;5;250m \u001B[39m\u001B[34mis_cmap\u001B[39m(cmap):\n\u001B[32m      9\u001B[39m     valid_cmaps = plt.colormaps()\n",
      "\u001B[31mModuleNotFoundError\u001B[39m: No module named 'matplotlib.colormaps'"
     ]
    }
   ],
   "source": [
    "from stemplot.colors import color_palette"
   ]
  },
  {
   "cell_type": "code",
   "execution_count": 10,
   "id": "2d5182d4-ed05-4e72-ab6b-da94b698c899",
   "metadata": {
    "execution": {
     "iopub.execute_input": "2025-06-19T06:09:46.710431Z",
     "iopub.status.busy": "2025-06-19T06:09:46.709424Z",
     "iopub.status.idle": "2025-06-19T06:09:46.714133Z",
     "shell.execute_reply": "2025-06-19T06:09:46.714133Z",
     "shell.execute_reply.started": "2025-06-19T06:09:46.710431Z"
    }
   },
   "outputs": [],
   "source": [
    "import numpy as np\n",
    "import matplotlib.pyplot as plt "
   ]
  },
  {
   "cell_type": "code",
   "execution_count": null,
   "id": "e8d33a27-241c-4002-822a-28f25c97aabc",
   "metadata": {},
   "outputs": [],
   "source": []
  },
  {
   "cell_type": "code",
   "execution_count": null,
   "id": "beedb07f-a022-4b82-849f-05d46da6ef30",
   "metadata": {},
   "outputs": [],
   "source": []
  },
  {
   "cell_type": "markdown",
   "id": "a52fc949-047d-4f63-8087-32fdfb1c7c20",
   "metadata": {
    "execution": {
     "iopub.execute_input": "2025-06-19T03:46:26.294124Z",
     "iopub.status.busy": "2025-06-19T03:46:26.294124Z",
     "iopub.status.idle": "2025-06-19T03:46:26.297979Z",
     "shell.execute_reply": "2025-06-19T03:46:26.297517Z",
     "shell.execute_reply.started": "2025-06-19T03:46:26.294124Z"
    }
   },
   "source": [
    "### How to get colormaps in matplotlib?\n",
    "\n",
    "`plt.cm.get_cmap()` returns either a `ListedColormap` or `LinearSegmentedColormap`. Both of them are **callale**, which can be used to access colors in colormap."
   ]
  },
  {
   "cell_type": "code",
   "execution_count": 10,
   "id": "9c7fa853-5fb6-43fd-8643-9143a21f38ee",
   "metadata": {
    "execution": {
     "iopub.execute_input": "2025-06-19T03:46:26.438122Z",
     "iopub.status.busy": "2025-06-19T03:46:26.438122Z",
     "iopub.status.idle": "2025-06-19T03:46:26.445218Z",
     "shell.execute_reply": "2025-06-19T03:46:26.445218Z",
     "shell.execute_reply.started": "2025-06-19T03:46:26.438122Z"
    }
   },
   "outputs": [
    {
     "data": {
      "image/png": "[encoded data removed]",
      "text/html": [
       "<div style=\"vertical-align: middle;\"><strong>from_list</strong> </div><div class=\"cmap\"><img alt=\"from_list colormap\" title=\"from_list\" style=\"border: 1px solid #555;\" src=\"data:image/png;base64,iVBORw0KGgoAAAANSUhEUgAAAgAAAABACAYAAABsv8+/AAAAGHRFWHRUaXRsZQBmcm9tX2xpc3QgY29sb3JtYXBDL89FAAAAHnRFWHREZXNjcmlwdGlvbgBmcm9tX2xpc3QgY29sb3JtYXABtCnOAAAAMXRFWHRBdXRob3IATWF0cGxvdGxpYiB2My4xMC4xLCBodHRwczovL21hdHBsb3RsaWIub3JnFhxeCAAAADN0RVh0U29mdHdhcmUATWF0cGxvdGxpYiB2My4xMC4xLCBodHRwczovL21hdHBsb3RsaWIub3JnszhN/AAAAeVJREFUeJzt1suumzAUQFGT///ndpKHYuoCl6qTvdYkiiPiYxKkvY0xfo0xxhjb8+X1+vh6vy3WP59P6+Pa9a/1bbH+mm+3z9nr5znG/D13z7ua4+T1qznG6nsunne6j+s5Ls47/s15t8V9vH3e6XuPznv6f3r4vFz8n55+Xu6e9+b/dPH7HM17/Fzf+90/z8u1877fPqd5vM/zffl72unzz/r35/P6Yx7nueN+fTHHe/3v+3z2276u280xnWden/f58XnH9uf1/37exRyr8+7WT85xsM/ufv9wjnmfq+edzwEAhAgAAAgSAAAQJAAAIEgAAECQAACAIAEAAEECAACCBAAABAkAAAgSAAAQJAAAIEgAAECQAACAIAEAAEECAACCBAAABAkAAAgSAAAQJAAAIEgAAECQAACAIAEAAEECAACCBAAABAkAAAgSAAAQJAAAIEgAAECQAACAIAEAAEECAACCBAAABAkAAAgSAAAQJAAAIEgAAECQAACAIAEAAEECAACCBAAABAkAAAgSAAAQJAAAIEgAAECQAACAIAEAAEECAACCBAAABAkAAAgSAAAQJAAAIEgAAECQAACAIAEAAEECAACCBAAABAkAAAgSAAAQJAAAIEgAAECQAACAIAEAAEG/AdVAA+ideD8MAAAAAElFTkSuQmCC\"></div><div style=\"vertical-align: middle; max-width: 514px; display: flex; justify-content: space-between;\"><div style=\"float: left;\"><div title=\"#000000ff\" style=\"display: inline-block; width: 1em; height: 1em; margin: 0; vertical-align: middle; border: 1px solid #555; background-color: #000000ff;\"></div> under</div><div style=\"margin: 0 auto; display: inline-block;\">bad <div title=\"#00000000\" style=\"display: inline-block; width: 1em; height: 1em; margin: 0; vertical-align: middle; border: 1px solid #555; background-color: #00000000;\"></div></div><div style=\"float: right;\">over <div title=\"#a8d3f0ff\" style=\"display: inline-block; width: 1em; height: 1em; margin: 0; vertical-align: middle; border: 1px solid #555; background-color: #a8d3f0ff;\"></div></div></div>"
      ],
      "text/plain": [
       "<matplotlib.colors.ListedColormap at 0x1fa9fa7e180>"
      ]
     },
     "execution_count": 10,
     "metadata": {},
     "output_type": "execute_result"
    }
   ],
   "source": [
    "cmap = color_palette('C0', low=0, high=0.8)\n",
    "# cmap is a matplotlib.colors.ListedColormap object\n",
    "cmap"
   ]
  },
  {
   "cell_type": "code",
   "execution_count": 14,
   "id": "81ffbd52-d6b2-43fc-98f8-2f53ddcfc80a",
   "metadata": {
    "execution": {
     "iopub.execute_input": "2025-06-19T03:50:39.072839Z",
     "iopub.status.busy": "2025-06-19T03:50:39.071840Z",
     "iopub.status.idle": "2025-06-19T03:50:39.080719Z",
     "shell.execute_reply": "2025-06-19T03:50:39.080719Z",
     "shell.execute_reply.started": "2025-06-19T03:50:39.072839Z"
    }
   },
   "outputs": [
    {
     "data": {
      "image/png": "[encoded data removed]",
      "text/html": [
       "<div style=\"vertical-align: middle;\"><strong>Greys</strong> </div><div class=\"cmap\"><img alt=\"Greys colormap\" title=\"Greys\" style=\"border: 1px solid #555;\" src=\"data:image/png;base64,iVBORw0KGgoAAAANSUhEUgAAAgAAAABACAYAAABsv8+/AAAAFHRFWHRUaXRsZQBHcmV5cyBjb2xvcm1hcORtd/YAAAAadEVYdERlc2NyaXB0aW9uAEdyZXlzIGNvbG9ybWFwGjLeEAAAADF0RVh0QXV0aG9yAE1hdHBsb3RsaWIgdjMuMTAuMSwgaHR0cHM6Ly9tYXRwbG90bGliLm9yZxYcXggAAAAzdEVYdFNvZnR3YXJlAE1hdHBsb3RsaWIgdjMuMTAuMSwgaHR0cHM6Ly9tYXRwbG90bGliLm9yZ7M4TfwAAAFqSURBVHic7dZLCsIwAEDB6P3P3LpRF4Io9itvZhOaNGmgm3eZ53keY4z78LT381Hffff8aX7p+t771lr/dlx6ztH7p2latP6v56y9b6/ztj73X+/x6z1f57d+7yz32Or/nu39x3gdAECOAACAIAEAAEECAACCBAAABAkAAAgSAAAQJAAAIEgAAECQAACAIAEAAEECAACCBAAABAkAAAgSAAAQJAAAIEgAAECQAACAIAEAAEECAACCBAAABAkAAAgSAAAQJAAAIEgAAECQAACAIAEAAEECAACCBAAABAkAAAgSAAAQJAAAIEgAAECQAACAIAEAAEECAACCBAAABAkAAAgSAAAQJAAAIEgAAECQAACAIAEAAEECAACCBAAABAkAAAgSAAAQJAAAIEgAAECQAACAIAEAAEECAACCBAAABAkAAAgSAAAQJAAAIEgAAECQAACAIAEAAEECAACCBAAABAkAAAgSAAAQdAMd+aedG/OgCAAAAABJRU5ErkJggg==\"></div><div style=\"vertical-align: middle; max-width: 514px; display: flex; justify-content: space-between;\"><div style=\"float: left;\"><div title=\"#ffffffff\" style=\"display: inline-block; width: 1em; height: 1em; margin: 0; vertical-align: middle; border: 1px solid #555; background-color: #ffffffff;\"></div> under</div><div style=\"margin: 0 auto; display: inline-block;\">bad <div title=\"#00000000\" style=\"display: inline-block; width: 1em; height: 1em; margin: 0; vertical-align: middle; border: 1px solid #555; background-color: #00000000;\"></div></div><div style=\"float: right;\">over <div title=\"#000000ff\" style=\"display: inline-block; width: 1em; height: 1em; margin: 0; vertical-align: middle; border: 1px solid #555; background-color: #000000ff;\"></div></div></div>"
      ],
      "text/plain": [
       "<matplotlib.colors.LinearSegmentedColormap at 0x1faa03e2090>"
      ]
     },
     "execution_count": 14,
     "metadata": {},
     "output_type": "execute_result"
    }
   ],
   "source": [
    "cmap = color_palette('Greys', low=0, high=0.8)\n",
    "# cmap is a matplotlib.colors.LinearSegmentedColormap object\n",
    "cmap"
   ]
  },
  {
   "cell_type": "code",
   "execution_count": 15,
   "id": "a4b0709b-5df3-449a-8888-5a028fcc607b",
   "metadata": {
    "execution": {
     "iopub.execute_input": "2025-06-19T03:51:18.830813Z",
     "iopub.status.busy": "2025-06-19T03:51:18.829715Z",
     "iopub.status.idle": "2025-06-19T03:51:18.833191Z",
     "shell.execute_reply": "2025-06-19T03:51:18.833191Z",
     "shell.execute_reply.started": "2025-06-19T03:51:18.830813Z"
    }
   },
   "outputs": [
    {
     "name": "stdout",
     "output_type": "stream",
     "text": [
      "<matplotlib.colors.LinearSegmentedColormap object at 0x000001FAA03E2090>\n"
     ]
    }
   ],
   "source": [
    "print(cmap)"
   ]
  },
  {
   "cell_type": "code",
   "execution_count": null,
   "id": "4863da1a-1c43-4870-9df4-d1286b7e1f56",
   "metadata": {},
   "outputs": [],
   "source": []
  }
 ],
 "metadata": {
  "kernelspec": {
   "display_name": "Python 3 (ipykernel)",
   "language": "python",
   "name": "python3"
  },
  "language_info": {
   "codemirror_mode": {
    "name": "ipython",
    "version": 3
   },
   "file_extension": ".py",
   "mimetype": "text/x-python",
   "name": "python",
   "nbconvert_exporter": "python",
   "pygments_lexer": "ipython3",
   "version": "3.12.10"
  }
 },
 "nbformat": 4,
 "nbformat_minor": 5
}
