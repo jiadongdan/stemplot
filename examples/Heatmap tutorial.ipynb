{
 "cells": [
  {
   "metadata": {},
   "cell_type": "markdown",
   "source": "# stemplot tutorial: Heatmap",
   "id": "2ecde779047051e4"
  },
  {
   "metadata": {
    "ExecuteTime": {
     "end_time": "2024-05-28T04:14:21.946995Z",
     "start_time": "2024-05-28T04:14:15.702286Z"
    }
   },
   "cell_type": "code",
   "source": [
    "%matplotlib qt\n",
    "import numpy as np\n",
    "import matplotlib.pyplot as plt \n",
    "\n",
    "from stemplot.utils import plot_heatmap, annotate_heatmap"
   ],
   "id": "7c5e881c782124be",
   "execution_count": 78,
   "outputs": []
  },
  {
   "metadata": {
    "ExecuteTime": {
     "end_time": "2024-05-28T04:15:56.012882Z",
     "start_time": "2024-05-28T04:15:56.003881Z"
    }
   },
   "cell_type": "code",
   "source": "",
   "id": "8089b5477c6808ec",
   "execution_count": 81,
   "outputs": []
  },
  {
   "metadata": {
    "ExecuteTime": {
     "end_time": "2024-05-28T04:15:56.466021Z",
     "start_time": "2024-05-28T04:15:56.229026Z"
    }
   },
   "cell_type": "code",
   "source": [
    "mat = np.random.random((6, 13))\n",
    "\n",
    "fig, ax = plt.subplots(1, 1, figsize=(7.2, 7.2))\n",
    "\n",
    "im, cbar = plot_heatmap(mat, ax=ax)\n",
    "annotate_heatmap(im)"
   ],
   "id": "7180c7bf9526bac9",
   "execution_count": 82,
   "outputs": []
  },
  {
   "metadata": {},
   "cell_type": "markdown",
   "source": [
    "## References\n",
    "\n",
    "* [Matplotlib - Creating annotated heatmaps](https://matplotlib.org/stable/gallery/images_contours_and_fields/image_annotated_heatmap.html)"
   ],
   "id": "a4be68a48b35a82a"
  },
  {
   "metadata": {
    "ExecuteTime": {
     "end_time": "2024-05-28T04:03:56.028366Z",
     "start_time": "2024-05-28T04:03:55.992368Z"
    }
   },
   "cell_type": "code",
   "source": "",
   "id": "eac668127972063c",
   "execution_count": 73,
   "outputs": []
  },
  {
   "metadata": {
    "ExecuteTime": {
     "end_time": "2024-05-28T04:15:19.425350Z",
     "start_time": "2024-05-28T04:15:19.405346Z"
    }
   },
   "cell_type": "code",
   "source": "",
   "id": "4096521078011c28",
   "execution_count": 80,
   "outputs": []
  },
  {
   "metadata": {
    "ExecuteTime": {
     "end_time": "2024-05-28T04:04:25.149442Z",
     "start_time": "2024-05-28T04:04:24.951409Z"
    }
   },
   "cell_type": "code",
   "source": [
    "im, cbar = plot_heatmap(mat)\n",
    "annotate_heatmap(im)"
   ],
   "id": "16f88f91f0abbd74",
   "execution_count": 77,
   "outputs": []
  },
  {
   "metadata": {},
   "cell_type": "code",
   "execution_count": null,
   "source": "",
   "id": "6cbe99ad1c3f23eb",
   "outputs": []
  }
 ],
 "metadata": {
  "kernelspec": {
   "display_name": "Python 3",
   "language": "python",
   "name": "python3"
  },
  "language_info": {
   "codemirror_mode": {
    "name": "ipython",
    "version": 2
   },
   "file_extension": ".py",
   "mimetype": "text/x-python",
   "name": "python",
   "nbconvert_exporter": "python",
   "pygments_lexer": "ipython2",
   "version": "2.7.6"
  }
 },
 "nbformat": 4,
 "nbformat_minor": 5
}
