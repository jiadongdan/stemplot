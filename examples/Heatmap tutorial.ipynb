{
 "cells": [
  {
   "metadata": {},
   "cell_type": "markdown",
   "source": "# stemplot tutorial: Heatmap",
   "id": "2ecde779047051e4"
  },
  {
   "metadata": {
    "ExecuteTime": {
     "end_time": "2024-05-28T04:20:57.343423Z",
     "start_time": "2024-05-28T04:20:57.320422Z"
    }
   },
   "cell_type": "code",
   "source": [
    "%matplotlib qt\n",
    "import numpy as np\n",
    "import matplotlib.pyplot as plt \n",
    "\n",
    "from stemplot.utils import plot_heatmap, annotate_heatmap"
   ],
   "id": "7c5e881c782124be",
   "outputs": [],
   "execution_count": 83
  },
  {
   "metadata": {
    "ExecuteTime": {
     "end_time": "2024-05-28T04:23:21.441527Z",
     "start_time": "2024-05-28T04:23:21.424526Z"
    }
   },
   "cell_type": "code",
   "source": "mat = np.random.random((6, 13))",
   "id": "b622f37e9fd683b3",
   "outputs": [],
   "execution_count": 85
  },
  {
   "metadata": {
    "ExecuteTime": {
     "end_time": "2024-05-28T04:23:57.204553Z",
     "start_time": "2024-05-28T04:23:57.005388Z"
    }
   },
   "cell_type": "code",
   "source": [
    "fig, ax = plt.subplots(1, 1, figsize=(7.2, 7.2))\n",
    "im, cbar = plot_heatmap(mat, ax=ax)\n",
    "annotate_heatmap(im)"
   ],
   "id": "5f8d38c531788225",
   "outputs": [
    {
     "data": {
      "text/plain": [
       "[Text(0, 0, '0.29'),\n",
       " Text(1, 0, '0.06'),\n",
       " Text(2, 0, '0.91'),\n",
       " Text(3, 0, '0.70'),\n",
       " Text(4, 0, '0.22'),\n",
       " Text(5, 0, '0.44'),\n",
       " Text(6, 0, '0.16'),\n",
       " Text(7, 0, '0.30'),\n",
       " Text(8, 0, '0.70'),\n",
       " Text(9, 0, '0.85'),\n",
       " Text(10, 0, '0.13'),\n",
       " Text(11, 0, '0.98'),\n",
       " Text(12, 0, '0.19'),\n",
       " Text(0, 1, '0.12'),\n",
       " Text(1, 1, '0.07'),\n",
       " Text(2, 1, '0.22'),\n",
       " Text(3, 1, '0.46'),\n",
       " Text(4, 1, '0.41'),\n",
       " Text(5, 1, '0.60'),\n",
       " Text(6, 1, '0.37'),\n",
       " Text(7, 1, '0.69'),\n",
       " Text(8, 1, '0.27'),\n",
       " Text(9, 1, '0.25'),\n",
       " Text(10, 1, '0.06'),\n",
       " Text(11, 1, '0.99'),\n",
       " Text(12, 1, '0.28'),\n",
       " Text(0, 2, '0.53'),\n",
       " Text(1, 2, '0.29'),\n",
       " Text(2, 2, '0.83'),\n",
       " Text(3, 2, '0.60'),\n",
       " Text(4, 2, '0.75'),\n",
       " Text(5, 2, '0.59'),\n",
       " Text(6, 2, '0.16'),\n",
       " Text(7, 2, '0.90'),\n",
       " Text(8, 2, '0.15'),\n",
       " Text(9, 2, '0.55'),\n",
       " Text(10, 2, '0.70'),\n",
       " Text(11, 2, '0.64'),\n",
       " Text(12, 2, '0.68'),\n",
       " Text(0, 3, '0.81'),\n",
       " Text(1, 3, '0.81'),\n",
       " Text(2, 3, '0.18'),\n",
       " Text(3, 3, '0.27'),\n",
       " Text(4, 3, '0.09'),\n",
       " Text(5, 3, '0.77'),\n",
       " Text(6, 3, '0.06'),\n",
       " Text(7, 3, '0.10'),\n",
       " Text(8, 3, '0.17'),\n",
       " Text(9, 3, '0.22'),\n",
       " Text(10, 3, '0.68'),\n",
       " Text(11, 3, '0.61'),\n",
       " Text(12, 3, '0.08'),\n",
       " Text(0, 4, '0.65'),\n",
       " Text(1, 4, '0.97'),\n",
       " Text(2, 4, '0.63'),\n",
       " Text(3, 4, '0.68'),\n",
       " Text(4, 4, '0.94'),\n",
       " Text(5, 4, '0.12'),\n",
       " Text(6, 4, '0.46'),\n",
       " Text(7, 4, '0.50'),\n",
       " Text(8, 4, '0.44'),\n",
       " Text(9, 4, '0.67'),\n",
       " Text(10, 4, '0.01'),\n",
       " Text(11, 4, '0.94'),\n",
       " Text(12, 4, '0.23'),\n",
       " Text(0, 5, '0.95'),\n",
       " Text(1, 5, '0.64'),\n",
       " Text(2, 5, '0.64'),\n",
       " Text(3, 5, '0.48'),\n",
       " Text(4, 5, '0.47'),\n",
       " Text(5, 5, '0.81'),\n",
       " Text(6, 5, '0.31'),\n",
       " Text(7, 5, '0.56'),\n",
       " Text(8, 5, '0.76'),\n",
       " Text(9, 5, '0.21'),\n",
       " Text(10, 5, '0.23'),\n",
       " Text(11, 5, '0.91'),\n",
       " Text(12, 5, '0.29')]"
      ]
     },
     "execution_count": 87,
     "metadata": {},
     "output_type": "execute_result"
    }
   ],
   "execution_count": 87
  },
  {
   "metadata": {},
   "cell_type": "markdown",
   "source": [
    "## References\n",
    "\n",
    "* [Matplotlib - Creating annotated heatmaps](https://matplotlib.org/stable/gallery/images_contours_and_fields/image_annotated_heatmap.html)"
   ],
   "id": "a4be68a48b35a82a"
  },
  {
   "metadata": {
    "ExecuteTime": {
     "end_time": "2024-05-28T03:58:31.692978Z",
     "start_time": "2024-05-28T03:58:31.661978Z"
    }
   },
   "cell_type": "code",
   "source": "",
   "id": "eac668127972063c",
   "execution_count": 58,
   "outputs": []
  },
  {
   "metadata": {
    "ExecuteTime": {
     "end_time": "2024-05-28T03:58:31.991921Z",
     "start_time": "2024-05-28T03:58:31.965913Z"
    }
   },
   "cell_type": "code",
   "source": "",
   "id": "4096521078011c28",
   "execution_count": 59,
   "outputs": []
  },
  {
   "metadata": {
    "ExecuteTime": {
     "end_time": "2024-05-28T04:20:01.134768Z",
     "start_time": "2024-05-28T04:20:01.110751Z"
    }
   },
   "cell_type": "code",
   "source": "",
   "id": "16f88f91f0abbd74",
   "outputs": [],
   "execution_count": 82
  },
  {
   "metadata": {},
   "cell_type": "code",
   "execution_count": null,
   "source": "",
   "id": "6cbe99ad1c3f23eb",
   "outputs": []
  }
 ],
 "metadata": {
  "kernelspec": {
   "display_name": "Python 3",
   "language": "python",
   "name": "python3"
  },
  "language_info": {
   "codemirror_mode": {
    "name": "ipython",
    "version": 2
   },
   "file_extension": ".py",
   "mimetype": "text/x-python",
   "name": "python",
   "nbconvert_exporter": "python",
   "pygments_lexer": "ipython2",
   "version": "2.7.6"
  }
 },
 "nbformat": 4,
 "nbformat_minor": 5
}
