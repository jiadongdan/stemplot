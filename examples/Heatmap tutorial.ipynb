{
 "cells": [
  {
   "metadata": {},
   "cell_type": "markdown",
   "source": "# stemplot tutorial: Heatmap",
   "id": "2ecde779047051e4"
  },
  {
   "metadata": {
    "ExecuteTime": {
     "end_time": "2024-05-28T04:20:57.343423Z",
     "start_time": "2024-05-28T04:20:57.320422Z"
    }
   },
   "cell_type": "code",
   "source": [
    "%matplotlib qt\n",
    "import numpy as np\n",
    "import matplotlib.pyplot as plt \n",
    "\n",
    "from stemplot.utils import plot_heatmap, annotate_heatmap"
   ],
   "id": "7c5e881c782124be",
   "execution_count": 83,
   "outputs": []
  },
  {
   "metadata": {
    "ExecuteTime": {
     "end_time": "2024-05-28T06:22:14.266653Z",
     "start_time": "2024-05-28T06:22:14.243672Z"
    }
   },
   "cell_type": "code",
   "source": [
    "mat = np.random.random((6, 13))*2\n",
    "\n",
    "xlabels = ['TiS$_2$', 'VS$_2$', 'NbS$_2$', 'NbSe$_2$', 'MoS$_2$', 'MoSe$_2$', 'MoTe$_2$', 'TaS$_2$', 'TaSe$_2$', 'WS$_2$', 'WSe$_2$', 'WTe$_2$', 'ReSe$_2$']\n",
    "energy_detector = [(60, 'haadf'), (60, 'maadf'), (80, 'haadf'), (80, 'maadf'), (100, 'haadf'), (100, 'maadf')]\n",
    "\n",
    "ylabels = [str(energy)+'kV-'+detector for (energy, detector) in energy_detector]"
   ],
   "id": "b622f37e9fd683b3",
   "execution_count": 161,
   "outputs": []
  },
  {
   "metadata": {
    "ExecuteTime": {
     "end_time": "2024-05-28T06:22:25.383092Z",
     "start_time": "2024-05-28T06:22:25.162104Z"
    }
   },
   "cell_type": "code",
   "source": [
    "fig, ax = plt.subplots(1, 1, figsize=(7.2, 7.2 *6/ 13))\n",
    "im, cbar = plot_heatmap(mat, ax=ax, xlabels=xlabels, ylabels=ylabels, xrotate=30, cmap='coolwarm')\n",
    "annotate_heatmap(im, fontsize=7,)\n",
    "ax.tick_params(axis='both', labelsize=8)  # Replace 12 with your desired fontsize\n",
    "\n",
    "ax.set_xlabel('Ratio Heatmap (ratio'+r'$=\\frac{I_M}{I_{X2}}$'+')', fontsize=10, labelpad=10)\n",
    "ax.xaxis.set_label_position('top') "
   ],
   "id": "5f8d38c531788225",
   "execution_count": 163,
   "outputs": []
  },
  {
   "metadata": {},
   "cell_type": "code",
   "execution_count": null,
   "source": "",
   "id": "ac93e172e57074e5",
   "outputs": []
  },
  {
   "metadata": {},
   "cell_type": "code",
   "execution_count": null,
   "source": "",
   "id": "c89b36486a126446",
   "outputs": []
  },
  {
   "metadata": {},
   "cell_type": "code",
   "execution_count": null,
   "source": "",
   "id": "b2b04c231e040b4",
   "outputs": []
  },
  {
   "metadata": {},
   "cell_type": "markdown",
   "source": [
    "## References\n",
    "\n",
    "* [Matplotlib - Creating annotated heatmaps](https://matplotlib.org/stable/gallery/images_contours_and_fields/image_annotated_heatmap.html)"
   ],
   "id": "a4be68a48b35a82a"
  },
  {
   "metadata": {
    "ExecuteTime": {
     "end_time": "2024-05-28T03:58:31.692978Z",
     "start_time": "2024-05-28T03:58:31.661978Z"
    }
   },
   "cell_type": "code",
   "source": "",
   "id": "eac668127972063c",
   "execution_count": 58,
   "outputs": []
  },
  {
   "metadata": {
    "ExecuteTime": {
     "end_time": "2024-05-28T03:58:31.991921Z",
     "start_time": "2024-05-28T03:58:31.965913Z"
    }
   },
   "cell_type": "code",
   "source": "",
   "id": "4096521078011c28",
   "execution_count": 59,
   "outputs": []
  },
  {
   "metadata": {
    "ExecuteTime": {
     "end_time": "2024-05-28T04:20:01.134768Z",
     "start_time": "2024-05-28T04:20:01.110751Z"
    }
   },
   "cell_type": "code",
   "source": "",
   "id": "16f88f91f0abbd74",
   "execution_count": 82,
   "outputs": []
  },
  {
   "metadata": {},
   "cell_type": "code",
   "execution_count": null,
   "source": "",
   "id": "6cbe99ad1c3f23eb",
   "outputs": []
  }
 ],
 "metadata": {
  "kernelspec": {
   "display_name": "Python 3",
   "language": "python",
   "name": "python3"
  },
  "language_info": {
   "codemirror_mode": {
    "name": "ipython",
    "version": 2
   },
   "file_extension": ".py",
   "mimetype": "text/x-python",
   "name": "python",
   "nbconvert_exporter": "python",
   "pygments_lexer": "ipython2",
   "version": "2.7.6"
  }
 },
 "nbformat": 4,
 "nbformat_minor": 5
}
