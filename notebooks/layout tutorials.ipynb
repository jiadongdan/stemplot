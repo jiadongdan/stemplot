{
 "cells": [
  {
   "cell_type": "code",
   "execution_count": 1,
   "id": "bc395020-f5c0-402b-b04c-3e22ad44d45e",
   "metadata": {
    "execution": {
     "iopub.execute_input": "2025-06-21T09:16:02.045032Z",
     "iopub.status.busy": "2025-06-21T09:16:02.045032Z",
     "iopub.status.idle": "2025-06-21T09:16:04.283711Z",
     "shell.execute_reply": "2025-06-21T09:16:04.283711Z",
     "shell.execute_reply.started": "2025-06-21T09:16:02.045032Z"
    }
   },
   "outputs": [],
   "source": [
    "%matplotlib qt\n",
    "import numpy as np\n",
    "import matplotlib.pyplot as plt"
   ]
  },
  {
   "cell_type": "code",
   "execution_count": 3,
   "id": "c108223c-c60c-411b-9698-3e21e52db228",
   "metadata": {
    "execution": {
     "iopub.execute_input": "2025-06-21T09:16:16.509603Z",
     "iopub.status.busy": "2025-06-21T09:16:16.509603Z",
     "iopub.status.idle": "2025-06-21T09:16:16.514003Z",
     "shell.execute_reply": "2025-06-21T09:16:16.513698Z",
     "shell.execute_reply.started": "2025-06-21T09:16:16.509603Z"
    }
   },
   "outputs": [],
   "source": [
    "from stemplot.layout import generate_ax"
   ]
  },
  {
   "cell_type": "code",
   "execution_count": 5,
   "id": "4376046c-5af1-4ee1-9fff-66e32ebbdb34",
   "metadata": {
    "execution": {
     "iopub.execute_input": "2025-06-21T09:16:42.082481Z",
     "iopub.status.busy": "2025-06-21T09:16:42.081566Z",
     "iopub.status.idle": "2025-06-21T09:16:42.162094Z",
     "shell.execute_reply": "2025-06-21T09:16:42.162094Z",
     "shell.execute_reply.started": "2025-06-21T09:16:42.082481Z"
    }
   },
   "outputs": [],
   "source": [
    "fig = plt.figure(figsize=(7.2, 7.2))\n",
    "\n",
    "ax = generate_ax(fig, 3, 3)"
   ]
  },
  {
   "cell_type": "code",
   "execution_count": null,
   "id": "04b29119-2133-45d0-92e0-4b3b1cd4c2ba",
   "metadata": {},
   "outputs": [],
   "source": []
  },
  {
   "cell_type": "code",
   "execution_count": 18,
   "id": "3d7113da-544a-49b2-96d7-628ee0ac3c9d",
   "metadata": {
    "execution": {
     "iopub.execute_input": "2025-06-21T08:23:06.524584Z",
     "iopub.status.busy": "2025-06-21T08:23:06.524584Z",
     "iopub.status.idle": "2025-06-21T08:23:06.587447Z",
     "shell.execute_reply": "2025-06-21T08:23:06.586439Z",
     "shell.execute_reply.started": "2025-06-21T08:23:06.524584Z"
    }
   },
   "outputs": [],
   "source": [
    "fig = plt.figure(figsize=(7.2, 7.2))\n"
   ]
  },
  {
   "cell_type": "code",
   "execution_count": 19,
   "id": "3582caca-8a87-4b2b-9ddf-c50394238bcc",
   "metadata": {
    "execution": {
     "iopub.execute_input": "2025-06-21T08:23:12.537463Z",
     "iopub.status.busy": "2025-06-21T08:23:12.537463Z",
     "iopub.status.idle": "2025-06-21T08:23:12.593809Z",
     "shell.execute_reply": "2025-06-21T08:23:12.592803Z",
     "shell.execute_reply.started": "2025-06-21T08:23:12.537463Z"
    }
   },
   "outputs": [],
   "source": [
    "fig, ax = plt.subplots(1, 1, figsize=(7.2, 7.2))\n",
    "\n",
    "\n",
    "set_xtitle(ax, text='rdia')\n",
    "set_ytitle(ax, text='rdia')"
   ]
  },
  {
   "cell_type": "code",
   "execution_count": null,
   "id": "27e58759-0b33-4f05-a585-3eefaa2524ef",
   "metadata": {},
   "outputs": [],
   "source": []
  },
  {
   "cell_type": "code",
   "execution_count": null,
   "id": "7c8efe29-364f-4821-ac3f-7851f19f2298",
   "metadata": {},
   "outputs": [],
   "source": [
    "def plot_bar(ax, data, labels, orientation, **kwargs):\n",
    "    ax.bar(dksahduiwuh, **kwargs)\n",
    "\n",
    "    return th"
   ]
  },
  {
   "cell_type": "code",
   "execution_count": null,
   "id": "28b8d5af-f6b3-4f2e-879d-3f809461a26e",
   "metadata": {},
   "outputs": [],
   "source": [
    "fig = plt.figure(figsize=(7.2, 7.2))\n",
    "ax = generate_ax()\n",
    "\n",
    "plot_bar()\n",
    "handle_legend(ax)"
   ]
  },
  {
   "cell_type": "code",
   "execution_count": null,
   "id": "8596d0ac-df89-44c3-99a7-5002d4c9a2c8",
   "metadata": {},
   "outputs": [],
   "source": [
    "given a matplotlib fig, generate a axis at the center of the fig, by speciying the width and height of the axis\n",
    "and return the ax, width and height in inches\n",
    "def generate_ax(fig, width, height):\n",
    "    pass"
   ]
  }
 ],
 "metadata": {
  "kernelspec": {
   "display_name": "Python 3 (ipykernel)",
   "language": "python",
   "name": "python3"
  },
  "language_info": {
   "codemirror_mode": {
    "name": "ipython",
    "version": 3
   },
   "file_extension": ".py",
   "mimetype": "text/x-python",
   "name": "python",
   "nbconvert_exporter": "python",
   "pygments_lexer": "ipython3",
   "version": "3.12.10"
  }
 },
 "nbformat": 4,
 "nbformat_minor": 5
}
