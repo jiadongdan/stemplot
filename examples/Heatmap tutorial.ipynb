{
 "cells": [
  {
   "metadata": {},
   "cell_type": "markdown",
   "source": "# stemplot tutorial: Heatmap",
   "id": "2ecde779047051e4"
  },
  {
   "metadata": {
    "ExecuteTime": {
     "end_time": "2024-05-28T04:20:57.343423Z",
     "start_time": "2024-05-28T04:20:57.320422Z"
    }
   },
   "cell_type": "code",
   "source": [
    "%matplotlib qt\n",
    "import numpy as np\n",
    "import matplotlib.pyplot as plt \n",
    "\n",
    "from stemplot.utils import plot_heatmap, annotate_heatmap"
   ],
   "id": "7c5e881c782124be",
   "outputs": [],
   "execution_count": 83
  },
  {
   "metadata": {},
   "cell_type": "code",
   "outputs": [],
   "execution_count": null,
   "source": "",
   "id": "b622f37e9fd683b3"
  },
  {
   "metadata": {},
   "cell_type": "code",
   "outputs": [],
   "execution_count": null,
   "source": "",
   "id": "5f8d38c531788225"
  },
  {
   "metadata": {},
   "cell_type": "markdown",
   "source": [
    "## References\n",
    "\n",
    "* [Matplotlib - Creating annotated heatmaps](https://matplotlib.org/stable/gallery/images_contours_and_fields/image_annotated_heatmap.html)"
   ],
   "id": "a4be68a48b35a82a"
  },
  {
   "metadata": {
    "ExecuteTime": {
     "end_time": "2024-05-28T03:58:31.692978Z",
     "start_time": "2024-05-28T03:58:31.661978Z"
    }
   },
   "cell_type": "code",
   "source": "",
   "id": "eac668127972063c",
   "execution_count": 58,
   "outputs": []
  },
  {
   "metadata": {
    "ExecuteTime": {
     "end_time": "2024-05-28T03:58:31.991921Z",
     "start_time": "2024-05-28T03:58:31.965913Z"
    }
   },
   "cell_type": "code",
   "source": "",
   "id": "4096521078011c28",
   "execution_count": 59,
   "outputs": []
  },
  {
   "metadata": {
    "ExecuteTime": {
     "end_time": "2024-05-28T04:20:01.134768Z",
     "start_time": "2024-05-28T04:20:01.110751Z"
    }
   },
   "cell_type": "code",
   "source": "",
   "id": "16f88f91f0abbd74",
   "outputs": [],
   "execution_count": 82
  },
  {
   "metadata": {},
   "cell_type": "code",
   "execution_count": null,
   "source": "",
   "id": "6cbe99ad1c3f23eb",
   "outputs": []
  }
 ],
 "metadata": {
  "kernelspec": {
   "display_name": "Python 3",
   "language": "python",
   "name": "python3"
  },
  "language_info": {
   "codemirror_mode": {
    "name": "ipython",
    "version": 2
   },
   "file_extension": ".py",
   "mimetype": "text/x-python",
   "name": "python",
   "nbconvert_exporter": "python",
   "pygments_lexer": "ipython2",
   "version": "2.7.6"
  }
 },
 "nbformat": 4,
 "nbformat_minor": 5
}
