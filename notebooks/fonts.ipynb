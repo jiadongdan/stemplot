{
 "cells": [
  {
   "cell_type": "markdown",
   "id": "a00e914a-66bc-4a4c-a0da-c54d19dae031",
   "metadata": {},
   "source": [
    "# Fonts"
   ]
  },
  {
   "attachments": {},
   "cell_type": "markdown",
   "id": "680a30b1-e749-4507-ac4f-1fd4601e7306",
   "metadata": {},
   "source": [
    "In stemplot, we use Helvetica or Arial by default. If your machine installed Helvetica, we use Helvetica, otherwise, Arial will be picked. you can use `is_arial_installed()` or `is_arial_installed`"
   ]
  },
  {
   "cell_type": "code",
   "execution_count": null,
   "id": "23ac33ff-5248-40b1-bc5c-34234dada7c3",
   "metadata": {},
   "outputs": [],
   "source": []
  }
 ],
 "metadata": {
  "kernelspec": {
   "display_name": "Python 3 (ipykernel)",
   "language": "python",
   "name": "python3"
  },
  "language_info": {
   "codemirror_mode": {
    "name": "ipython",
    "version": 3
   },
   "file_extension": ".py",
   "mimetype": "text/x-python",
   "name": "python",
   "nbconvert_exporter": "python",
   "pygments_lexer": "ipython3",
   "version": "3.12.10"
  }
 },
 "nbformat": 4,
 "nbformat_minor": 5
}
