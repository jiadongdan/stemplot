{
 "cells": [
  {
   "cell_type": "code",
   "execution_count": 2,
   "id": "1e912a40-ec6d-4021-8c6d-6935ffad90f5",
   "metadata": {
    "execution": {
     "iopub.execute_input": "2025-06-19T06:11:17.567293Z",
     "iopub.status.busy": "2025-06-19T06:11:17.566262Z",
     "iopub.status.idle": "2025-06-19T06:11:17.570410Z",
     "shell.execute_reply": "2025-06-19T06:11:17.570410Z",
     "shell.execute_reply.started": "2025-06-19T06:11:17.567293Z"
    }
   },
   "outputs": [],
   "source": [
    "import numpy as np\n",
    "import matplotlib.pyplot as plt \n",
    "\n",
    "from stemplot.colors import color_palette"
   ]
  },
  {
   "cell_type": "code",
   "execution_count": null,
   "id": "beedb07f-a022-4b82-849f-05d46da6ef30",
   "metadata": {},
   "outputs": [],
   "source": []
  },
  {
   "cell_type": "markdown",
   "id": "a52fc949-047d-4f63-8087-32fdfb1c7c20",
   "metadata": {
    "execution": {
     "iopub.execute_input": "2025-06-19T03:46:26.294124Z",
     "iopub.status.busy": "2025-06-19T03:46:26.294124Z",
     "iopub.status.idle": "2025-06-19T03:46:26.297979Z",
     "shell.execute_reply": "2025-06-19T03:46:26.297517Z",
     "shell.execute_reply.started": "2025-06-19T03:46:26.294124Z"
    }
   },
   "source": [
    "## How to get colormaps in matplotlib?\n",
    "\n",
    "`plt.cm.get_cmap()` returns either a `ListedColormap` or `LinearSegmentedColormap`. Both of them are **callale**, which can be used to access colors in colormap."
   ]
  },
  {
   "cell_type": "code",
   "execution_count": 11,
   "id": "06acf0c1-5bbf-4efb-8407-d30fbaa8d9b0",
   "metadata": {
    "execution": {
     "iopub.execute_input": "2025-06-19T06:27:55.494412Z",
     "iopub.status.busy": "2025-06-19T06:27:55.494412Z",
     "iopub.status.idle": "2025-06-19T06:27:55.502395Z",
     "shell.execute_reply": "2025-06-19T06:27:55.502395Z",
     "shell.execute_reply.started": "2025-06-19T06:27:55.494412Z"
    }
   },
   "outputs": [
    {
     "data": {
      "image/png": "[encoded data removed]",
      "text/html": [
       "<div style=\"vertical-align: middle;\"><strong>Greys</strong> </div><div class=\"cmap\"><img alt=\"Greys colormap\" title=\"Greys\" style=\"border: 1px solid #555;\" src=\"data:image/png;base64,iVBORw0KGgoAAAANSUhEUgAAAgAAAABACAYAAABsv8+/AAAAFHRFWHRUaXRsZQBHcmV5cyBjb2xvcm1hcORtd/YAAAAadEVYdERlc2NyaXB0aW9uAEdyZXlzIGNvbG9ybWFwGjLeEAAAADF0RVh0QXV0aG9yAE1hdHBsb3RsaWIgdjMuMTAuMywgaHR0cHM6Ly9tYXRwbG90bGliLm9yZ4Z6eFUAAAAzdEVYdFNvZnR3YXJlAE1hdHBsb3RsaWIgdjMuMTAuMywgaHR0cHM6Ly9tYXRwbG90bGliLm9yZyNea6EAAAFtSURBVHic7dZLCsIwAEDB6v3P3AiiLgRR7E95M4uGNk0a6OadxhhjmqbpNjzsfX/Ud1/dv3u+dH7vdWvNfzou3efo9fM8L5r/133WXrfXflvv+6/n+Pacz8+3fu9XzjE2+r+/9v59PF+vAECKAACAIAEAAEECAACCBAAABAkAAAgSAAAQJAAAIEgAAECQAACAIAEAAEECAACCBAAABAkAAAgSAAAQJAAAIEgAAECQAACAIAEAAEECAACCBAAABAkAAAgSAAAQJAAAIEgAAECQAACAIAEAAEECAACCBAAABAkAAAgSAAAQJAAAIEgAAECQAACAIAEAAEECAACCBAAABAkAAAgSAAAQJAAAIEgAAECQAACAIAEAAEECAACCBAAABAkAAAgSAAAQJAAAIEgAAECQAACAIAEAAEECAACCBAAABAkAAAgSAAAQJAAAIEgAAECQAACAIAEAAEECAACCBAAABAkAAAgSAAAQdAEd+aedhJ+V6AAAAABJRU5ErkJggg==\"></div><div style=\"vertical-align: middle; max-width: 514px; display: flex; justify-content: space-between;\"><div style=\"float: left;\"><div title=\"#ffffffff\" style=\"display: inline-block; width: 1em; height: 1em; margin: 0; vertical-align: middle; border: 1px solid #555; background-color: #ffffffff;\"></div> under</div><div style=\"margin: 0 auto; display: inline-block;\">bad <div title=\"#00000000\" style=\"display: inline-block; width: 1em; height: 1em; margin: 0; vertical-align: middle; border: 1px solid #555; background-color: #00000000;\"></div></div><div style=\"float: right;\">over <div title=\"#000000ff\" style=\"display: inline-block; width: 1em; height: 1em; margin: 0; vertical-align: middle; border: 1px solid #555; background-color: #000000ff;\"></div></div></div>"
      ],
      "text/plain": [
       "<matplotlib.colors.LinearSegmentedColormap at 0x1921f0a91f0>"
      ]
     },
     "execution_count": 11,
     "metadata": {},
     "output_type": "execute_result"
    }
   ],
   "source": [
    "plt.get_cmap('viridis') # returns a ListedColormap object with 256 colors\n",
    "plt.get_cmap('viridis', 8)\n",
    "plt.get_cmap('viridis', 255)\n",
    "plt.get_cmap('viridis', 300)\n",
    "\n",
    "plt.get_cmap('Greys') # returns a LinearSegmentedColormap object"
   ]
  },
  {
   "cell_type": "markdown",
   "id": "3a19f71b-ead0-47f2-bba2-71d98b5e59e9",
   "metadata": {},
   "source": [
    "## How to access the colors in matplotlib colormap?"
   ]
  },
  {
   "cell_type": "code",
   "execution_count": null,
   "id": "7b976bdf-a8a1-4a2d-a906-14c55d81c49c",
   "metadata": {},
   "outputs": [],
   "source": [
    "plt.get_cmap('viridis')(np.linspace(0, 1, 100))\n",
    "plt.get_cmap('viridis')(0.56)\n",
    "plt.get_cmap('viridis')(100)\n",
    "plt.get_cmap('viridis').colors\n",
    "\n",
    "# this is WRONG as LinearSegmentedColormap don't have attribute `colors`\n",
    "plt.get_cmap('Greys').colors"
   ]
  },
  {
   "cell_type": "markdown",
   "id": "a12d9155-60f8-468f-ba27-76ad0554d80d",
   "metadata": {},
   "source": [
    "## What is the difference of `ListedColormap` and `LinearSegmentedColormap`?\n",
    "\n",
    "`ListedColormap` is a lookup table, so \"oversampling\" the colormap returns nearest-neighbor interpolation.\n",
    "\n",
    "`LinearSegmentedColormap` does not have a `.colors` attribute. However, one may still call the colormap with an integer array, or with a float array between 0 and 1. `LinearSegmentedColormap` class specifies colormaps using anchor points between which RGB(A) values are interpolated."
   ]
  },
  {
   "cell_type": "markdown",
   "id": "24c68497-36d5-43cc-b006-e04c96db1d31",
   "metadata": {},
   "source": [
    "## How to create colormaps in matplotlib?\n",
    "\n",
    "Colormaps are often created using the class `ListedColormap` or `LinearSegmentedColormap`."
   ]
  },
  {
   "cell_type": "code",
   "execution_count": 16,
   "id": "be9c0e59-3945-4dff-9781-5010ef79c022",
   "metadata": {
    "execution": {
     "iopub.execute_input": "2025-06-19T06:30:43.864352Z",
     "iopub.status.busy": "2025-06-19T06:30:43.863354Z",
     "iopub.status.idle": "2025-06-19T06:30:43.867705Z",
     "shell.execute_reply": "2025-06-19T06:30:43.867705Z",
     "shell.execute_reply.started": "2025-06-19T06:30:43.864352Z"
    }
   },
   "outputs": [],
   "source": [
    "from matplotlib.colors import ListedColormap, LinearSegmentedColormap\n",
    "\n",
    "colors = [\"darkorange\", \"gold\", \"lawngreen\", \"lightseagreen\"]\n",
    "cmap1=ListedColormap(colors) \n",
    "cmap2 = LinearSegmentedColormap.from_list(\"mycmap\", colors)\n",
    "nodes = [0.0, 0.4, 0.8, 1.0]\n",
    "cmap3 = LinearSegmentedColormap.from_list(\"mycmap\", list(zip(nodes, colors)))"
   ]
  },
  {
   "cell_type": "code",
   "execution_count": 17,
   "id": "a3fe62ef-4726-4d4c-8eba-d9ce45aeabc1",
   "metadata": {
    "execution": {
     "iopub.execute_input": "2025-06-19T06:30:48.756254Z",
     "iopub.status.busy": "2025-06-19T06:30:48.755257Z",
     "iopub.status.idle": "2025-06-19T06:30:48.763356Z",
     "shell.execute_reply": "2025-06-19T06:30:48.763356Z",
     "shell.execute_reply.started": "2025-06-19T06:30:48.756254Z"
    }
   },
   "outputs": [
    {
     "data": {
      "image/png": "[encoded data removed]",
      "text/html": [
       "<div style=\"vertical-align: middle;\"><strong>from_list</strong> </div><div class=\"cmap\"><img alt=\"from_list colormap\" title=\"from_list\" style=\"border: 1px solid #555;\" src=\"data:image/png;base64,iVBORw0KGgoAAAANSUhEUgAAAgAAAABACAYAAABsv8+/AAAAGHRFWHRUaXRsZQBmcm9tX2xpc3QgY29sb3JtYXBDL89FAAAAHnRFWHREZXNjcmlwdGlvbgBmcm9tX2xpc3QgY29sb3JtYXABtCnOAAAAMXRFWHRBdXRob3IATWF0cGxvdGxpYiB2My4xMC4zLCBodHRwczovL21hdHBsb3RsaWIub3Jnhnp4VQAAADN0RVh0U29mdHdhcmUATWF0cGxvdGxpYiB2My4xMC4zLCBodHRwczovL21hdHBsb3RsaWIub3JnI15roQAAATxJREFUeJzt1kEBQAAUBUF0kUYmDcRwEkA9YvzDzhR477jrdy3fQtcxfYBJ5z79gEn3+0xfYNA2OQ4AzBAAABAkAAAgSAAAQJAAAIAgAQAAQQIAAIIEAAAECQAACBIAABAkAAAgSAAAQJAAAIAgAQAAQQIAAIIEAAAECQAACBIAABAkAAAgSAAAQJAAAIAgAQAAQQIAAIIEAAAECQAACBIAABAkAAAgSAAAQJAAAIAgAQAAQQIAAIIEAAAECQAACBIAABAkAAAgSAAAQJAAAIAgAQAAQQIAAIIEAAAECQAACBIAABAkAAAgSAAAQJAAAIAgAQAAQQIAAIIEAAAECQAACBIAABAkAAAgSAAAQJAAAIAgAQAAQQIAAIIEAAAECQAACBIAABAkAAAgSAAAQJAAAIAgAQAAQQIAAIJ+2LgF+0sAfeoAAAAASUVORK5CYII=\"></div><div style=\"vertical-align: middle; max-width: 514px; display: flex; justify-content: space-between;\"><div style=\"float: left;\"><div title=\"#ff8c00ff\" style=\"display: inline-block; width: 1em; height: 1em; margin: 0; vertical-align: middle; border: 1px solid #555; background-color: #ff8c00ff;\"></div> under</div><div style=\"margin: 0 auto; display: inline-block;\">bad <div title=\"#00000000\" style=\"display: inline-block; width: 1em; height: 1em; margin: 0; vertical-align: middle; border: 1px solid #555; background-color: #00000000;\"></div></div><div style=\"float: right;\">over <div title=\"#20b2aaff\" style=\"display: inline-block; width: 1em; height: 1em; margin: 0; vertical-align: middle; border: 1px solid #555; background-color: #20b2aaff;\"></div></div></div>"
      ],
      "text/plain": [
       "<matplotlib.colors.ListedColormap at 0x1921f12e990>"
      ]
     },
     "execution_count": 17,
     "metadata": {},
     "output_type": "execute_result"
    }
   ],
   "source": [
    "cmap1"
   ]
  },
  {
   "cell_type": "code",
   "execution_count": 18,
   "id": "f5a4c1dc-0e74-4087-8c40-2467fe843c20",
   "metadata": {
    "execution": {
     "iopub.execute_input": "2025-06-19T06:30:53.466457Z",
     "iopub.status.busy": "2025-06-19T06:30:53.466457Z",
     "iopub.status.idle": "2025-06-19T06:30:53.471743Z",
     "shell.execute_reply": "2025-06-19T06:30:53.471743Z",
     "shell.execute_reply.started": "2025-06-19T06:30:53.466457Z"
    }
   },
   "outputs": [
    {
     "data": {
      "image/png": "[encoded data removed]",
      "text/html": [
       "<div style=\"vertical-align: middle;\"><strong>mycmap</strong> </div><div class=\"cmap\"><img alt=\"mycmap colormap\" title=\"mycmap\" style=\"border: 1px solid #555;\" src=\"data:image/png;base64,iVBORw0KGgoAAAANSUhEUgAAAgAAAABACAYAAABsv8+/AAAAFXRFWHRUaXRsZQBteWNtYXAgY29sb3JtYXBbv6KmAAAAG3RFWHREZXNjcmlwdGlvbgBteWNtYXAgY29sb3JtYXASKLpCAAAAMXRFWHRBdXRob3IATWF0cGxvdGxpYiB2My4xMC4zLCBodHRwczovL21hdHBsb3RsaWIub3Jnhnp4VQAAADN0RVh0U29mdHdhcmUATWF0cGxvdGxpYiB2My4xMC4zLCBodHRwczovL21hdHBsb3RsaWIub3JnI15roQAAAbJJREFUeJzt1s1ygjAYQNGgr99nli7U/jBSQF31nrMoE50vxHRzp/ljzOOn6cnnq/Pv2sc5/vU5LuP3c54Oru/z0+P1s3O71y/Obf2+Z+eO3tu77nt134NzR+/tXfe9up5P1/XR51h+ft1wns+/Pr/snt/7vL1nnBf7399/eniO7/cuz/n3+rL8fnV+ec6V78fyfvae5/Rwfuv9X/uPjXvZur+x9f99bn7z/bdzX/8CACkCAACCBAAABAkAAAgSAAAQJAAAIEgAAECQAACAIAEAAEECAACCBAAABAkAAAgSAAAQJAAAIEgAAECQAACAIAEAAEECAACCBAAABAkAAAgSAAAQJAAAIEgAAECQAACAIAEAAEECAACCBAAABAkAAAgSAAAQJAAAIEgAAECQAACAIAEAAEECAACCBAAABAkAAAgSAAAQJAAAIEgAAECQAACAIAEAAEECAACCBAAABAkAAAgSAAAQJAAAIEgAAECQAACAIAEAAEECAACCBAAABAkAAAgSAAAQJAAAIEgAAECQAACAIAEAAEECAACCBAAABAkAAAgSAAAQJAAAIEgAAEDQJ/AG9vvNPzVpAAAAAElFTkSuQmCC\"></div><div style=\"vertical-align: middle; max-width: 514px; display: flex; justify-content: space-between;\"><div style=\"float: left;\"><div title=\"#ff8c00ff\" style=\"display: inline-block; width: 1em; height: 1em; margin: 0; vertical-align: middle; border: 1px solid #555; background-color: #ff8c00ff;\"></div> under</div><div style=\"margin: 0 auto; display: inline-block;\">bad <div title=\"#00000000\" style=\"display: inline-block; width: 1em; height: 1em; margin: 0; vertical-align: middle; border: 1px solid #555; background-color: #00000000;\"></div></div><div style=\"float: right;\">over <div title=\"#20b2aaff\" style=\"display: inline-block; width: 1em; height: 1em; margin: 0; vertical-align: middle; border: 1px solid #555; background-color: #20b2aaff;\"></div></div></div>"
      ],
      "text/plain": [
       "<matplotlib.colors.LinearSegmentedColormap at 0x1921f12fcb0>"
      ]
     },
     "execution_count": 18,
     "metadata": {},
     "output_type": "execute_result"
    }
   ],
   "source": [
    "cmap2"
   ]
  },
  {
   "cell_type": "code",
   "execution_count": null,
   "id": "64227e96-f989-4e3a-a882-5bd076ab9702",
   "metadata": {},
   "outputs": [],
   "source": []
  },
  {
   "cell_type": "code",
   "execution_count": null,
   "id": "d43a58a9-a506-4015-baba-b5607a936cbd",
   "metadata": {},
   "outputs": [],
   "source": []
  },
  {
   "cell_type": "code",
   "execution_count": 3,
   "id": "9c7fa853-5fb6-43fd-8643-9143a21f38ee",
   "metadata": {
    "execution": {
     "iopub.execute_input": "2025-06-19T06:11:24.493206Z",
     "iopub.status.busy": "2025-06-19T06:11:24.493206Z",
     "iopub.status.idle": "2025-06-19T06:11:24.517134Z",
     "shell.execute_reply": "2025-06-19T06:11:24.516015Z",
     "shell.execute_reply.started": "2025-06-19T06:11:24.493206Z"
    }
   },
   "outputs": [
    {
     "data": {
      "image/png": "[encoded data removed]",
      "text/html": [
       "<div style=\"vertical-align: middle;\"><strong>from_list</strong> </div><div class=\"cmap\"><img alt=\"from_list colormap\" title=\"from_list\" style=\"border: 1px solid #555;\" src=\"data:image/png;base64,iVBORw0KGgoAAAANSUhEUgAAAgAAAABACAYAAABsv8+/AAAAGHRFWHRUaXRsZQBmcm9tX2xpc3QgY29sb3JtYXBDL89FAAAAHnRFWHREZXNjcmlwdGlvbgBmcm9tX2xpc3QgY29sb3JtYXABtCnOAAAAMXRFWHRBdXRob3IATWF0cGxvdGxpYiB2My4xMC4zLCBodHRwczovL21hdHBsb3RsaWIub3Jnhnp4VQAAADN0RVh0U29mdHdhcmUATWF0cGxvdGxpYiB2My4xMC4zLCBodHRwczovL21hdHBsb3RsaWIub3JnI15roQAAAeBJREFUeJzt1tGuojAUQNHq///znWSiEGs6gN5kHvZaL8YiciqS7NsY42f8dXu8PF/vL+9vi/X9+LQ+rp3/XN8/N31+LK5z9vx5jmm+7/e7muPk+as5pu/9eL/T77ie4+K843f2u9+XX97v9L1H+z39Pz18Xi7+T08/L9/u98v/6eL+HM17/Fx/d9/35+Xafre3j2nu235eT9+mnY7v66/H5/X7PM7jiu/rizm29X9fZ7/e8/dYzDHt535wnY/3u93f8Z/3u5hjLPb7tn5yjoPrvP3eH84xX+fqfud9AAAhAgAAggQAAAQJAAAIEgAAECQAACBIAABAkAAAgCABAABBAgAAggQAAAQJAAAIEgAAECQAACBIAABAkAAAgCABAABBAgAAggQAAAQJAAAIEgAAECQAACBIAABAkAAAgCABAABBAgAAggQAAAQJAAAIEgAAECQAACBIAABAkAAAgCABAABBAgAAggQAAAQJAAAIEgAAECQAACBIAABAkAAAgCABAABBAgAAggQAAAQJAAAIEgAAECQAACBIAABAkAAAgCABAABBAgAAggQAAAQJAAAIEgAAECQAACBIAABAkAAAgCABAABBAgAAggQAAAQJAAAIEgAAECQAACBIAABA0B/VQAPoKLo/8gAAAABJRU5ErkJggg==\"></div><div style=\"vertical-align: middle; max-width: 514px; display: flex; justify-content: space-between;\"><div style=\"float: left;\"><div title=\"#000000ff\" style=\"display: inline-block; width: 1em; height: 1em; margin: 0; vertical-align: middle; border: 1px solid #555; background-color: #000000ff;\"></div> under</div><div style=\"margin: 0 auto; display: inline-block;\">bad <div title=\"#00000000\" style=\"display: inline-block; width: 1em; height: 1em; margin: 0; vertical-align: middle; border: 1px solid #555; background-color: #00000000;\"></div></div><div style=\"float: right;\">over <div title=\"#a8d3f0ff\" style=\"display: inline-block; width: 1em; height: 1em; margin: 0; vertical-align: middle; border: 1px solid #555; background-color: #a8d3f0ff;\"></div></div></div>"
      ],
      "text/plain": [
       "<matplotlib.colors.ListedColormap at 0x1921d150b30>"
      ]
     },
     "execution_count": 3,
     "metadata": {},
     "output_type": "execute_result"
    }
   ],
   "source": [
    "cmap = color_palette('C0', low=0, high=0.8)\n",
    "# cmap is a matplotlib.colors.ListedColormap object\n",
    "cmap"
   ]
  },
  {
   "cell_type": "code",
   "execution_count": 14,
   "id": "81ffbd52-d6b2-43fc-98f8-2f53ddcfc80a",
   "metadata": {
    "execution": {
     "iopub.execute_input": "2025-06-19T03:50:39.072839Z",
     "iopub.status.busy": "2025-06-19T03:50:39.071840Z",
     "iopub.status.idle": "2025-06-19T03:50:39.080719Z",
     "shell.execute_reply": "2025-06-19T03:50:39.080719Z",
     "shell.execute_reply.started": "2025-06-19T03:50:39.072839Z"
    }
   },
   "outputs": [
    {
     "data": {
      "image/png": "[encoded data removed]",
      "text/html": [
       "<div style=\"vertical-align: middle;\"><strong>Greys</strong> </div><div class=\"cmap\"><img alt=\"Greys colormap\" title=\"Greys\" style=\"border: 1px solid #555;\" src=\"data:image/png;base64,iVBORw0KGgoAAAANSUhEUgAAAgAAAABACAYAAABsv8+/AAAAFHRFWHRUaXRsZQBHcmV5cyBjb2xvcm1hcORtd/YAAAAadEVYdERlc2NyaXB0aW9uAEdyZXlzIGNvbG9ybWFwGjLeEAAAADF0RVh0QXV0aG9yAE1hdHBsb3RsaWIgdjMuMTAuMSwgaHR0cHM6Ly9tYXRwbG90bGliLm9yZxYcXggAAAAzdEVYdFNvZnR3YXJlAE1hdHBsb3RsaWIgdjMuMTAuMSwgaHR0cHM6Ly9tYXRwbG90bGliLm9yZ7M4TfwAAAFqSURBVHic7dZLCsIwAEDB6P3P3LpRF4Io9itvZhOaNGmgm3eZ53keY4z78LT381Hffff8aX7p+t771lr/dlx6ztH7p2latP6v56y9b6/ztj73X+/x6z1f57d+7yz32Or/nu39x3gdAECOAACAIAEAAEECAACCBAAABAkAAAgSAAAQJAAAIEgAAECQAACAIAEAAEECAACCBAAABAkAAAgSAAAQJAAAIEgAAECQAACAIAEAAEECAACCBAAABAkAAAgSAAAQJAAAIEgAAECQAACAIAEAAEECAACCBAAABAkAAAgSAAAQJAAAIEgAAECQAACAIAEAAEECAACCBAAABAkAAAgSAAAQJAAAIEgAAECQAACAIAEAAEECAACCBAAABAkAAAgSAAAQJAAAIEgAAECQAACAIAEAAEECAACCBAAABAkAAAgSAAAQJAAAIEgAAECQAACAIAEAAEECAACCBAAABAkAAAgSAAAQdAMd+aedG/OgCAAAAABJRU5ErkJggg==\"></div><div style=\"vertical-align: middle; max-width: 514px; display: flex; justify-content: space-between;\"><div style=\"float: left;\"><div title=\"#ffffffff\" style=\"display: inline-block; width: 1em; height: 1em; margin: 0; vertical-align: middle; border: 1px solid #555; background-color: #ffffffff;\"></div> under</div><div style=\"margin: 0 auto; display: inline-block;\">bad <div title=\"#00000000\" style=\"display: inline-block; width: 1em; height: 1em; margin: 0; vertical-align: middle; border: 1px solid #555; background-color: #00000000;\"></div></div><div style=\"float: right;\">over <div title=\"#000000ff\" style=\"display: inline-block; width: 1em; height: 1em; margin: 0; vertical-align: middle; border: 1px solid #555; background-color: #000000ff;\"></div></div></div>"
      ],
      "text/plain": [
       "<matplotlib.colors.LinearSegmentedColormap at 0x1faa03e2090>"
      ]
     },
     "execution_count": 14,
     "metadata": {},
     "output_type": "execute_result"
    }
   ],
   "source": [
    "cmap = color_palette('Greys', low=0, high=0.8)\n",
    "# cmap is a matplotlib.colors.LinearSegmentedColormap object\n",
    "cmap"
   ]
  },
  {
   "cell_type": "code",
   "execution_count": 15,
   "id": "a4b0709b-5df3-449a-8888-5a028fcc607b",
   "metadata": {
    "execution": {
     "iopub.execute_input": "2025-06-19T03:51:18.830813Z",
     "iopub.status.busy": "2025-06-19T03:51:18.829715Z",
     "iopub.status.idle": "2025-06-19T03:51:18.833191Z",
     "shell.execute_reply": "2025-06-19T03:51:18.833191Z",
     "shell.execute_reply.started": "2025-06-19T03:51:18.830813Z"
    }
   },
   "outputs": [
    {
     "name": "stdout",
     "output_type": "stream",
     "text": [
      "<matplotlib.colors.LinearSegmentedColormap object at 0x000001FAA03E2090>\n"
     ]
    }
   ],
   "source": [
    "print(cmap)"
   ]
  },
  {
   "cell_type": "code",
   "execution_count": null,
   "id": "4863da1a-1c43-4870-9df4-d1286b7e1f56",
   "metadata": {},
   "outputs": [],
   "source": []
  }
 ],
 "metadata": {
  "kernelspec": {
   "display_name": "Python 3 (ipykernel)",
   "language": "python",
   "name": "python3"
  },
  "language_info": {
   "codemirror_mode": {
    "name": "ipython",
    "version": 3
   },
   "file_extension": ".py",
   "mimetype": "text/x-python",
   "name": "python",
   "nbconvert_exporter": "python",
   "pygments_lexer": "ipython3",
   "version": "3.12.10"
  }
 },
 "nbformat": 4,
 "nbformat_minor": 5
}
