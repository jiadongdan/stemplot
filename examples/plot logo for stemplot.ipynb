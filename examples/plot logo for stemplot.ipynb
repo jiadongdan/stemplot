{
 "cells": [
  {
   "metadata": {},
   "cell_type": "markdown",
   "source": "# plot the logo of stemplot",
   "id": "3a84128973d0de3e"
  },
  {
   "metadata": {
    "ExecuteTime": {
     "end_time": "2024-05-23T12:44:44.151946Z",
     "start_time": "2024-05-23T12:44:43.066250Z"
    }
   },
   "cell_type": "code",
   "source": [
    "%matplotlib qt\n",
    "\n",
    "import numpy as np\n",
    "import matplotlib.pyplot as plt"
   ],
   "id": "ccd549b220fe600a",
   "outputs": [],
   "execution_count": 4
  },
  {
   "metadata": {
    "ExecuteTime": {
     "end_time": "2024-05-23T12:44:48.203240Z",
     "start_time": "2024-05-23T12:44:48.180234Z"
    }
   },
   "cell_type": "code",
   "source": "from stemplot import plot_chord_diagram",
   "id": "b00a9371d40379bb",
   "outputs": [],
   "execution_count": 5
  },
  {
   "metadata": {
    "ExecuteTime": {
     "end_time": "2024-05-23T12:49:21.265508Z",
     "start_time": "2024-05-23T12:49:21.061533Z"
    }
   },
   "cell_type": "code",
   "source": [
    "# flux matrix\n",
    "# the data is from https://d3-graph-gallery.com/graph/chord_basic.html\n",
    "mat = np.array([\n",
    "    [11975,  5871, 8916, 2868],\n",
    "    [ 1951, 10048, 2060, 6171],\n",
    "    [ 8010, 16145, 8090, 8045],\n",
    "    [ 1013,   990,  940, 6907]\n",
    "])\n",
    "\n",
    "idx = np.linspace(0.3,0.8,4)\n",
    "colors = plt.get_cmap(\"YlGn\")(idx)\n",
    "fig, ax = plt.subplots(1, 1, figsize=(5,5))\n",
    "plot_chord_diagram(mat, ax=ax, colors=colors, width=0.08)"
   ],
   "id": "594f7978d7850a9e",
   "outputs": [
    {
     "data": {
      "text/plain": [
       "[(0.6442935430480426, 0.8290873478630585, -37.8512),\n",
       " (-0.8263089109897136, 0.6478530571194318, 51.9024),\n",
       " (-0.35192028338555686, -0.9892684742484366, -19.582400000000007),\n",
       " (0.9907727518294709, -0.34766270181349307, 70.66399999999999)]"
      ]
     },
     "execution_count": 10,
     "metadata": {},
     "output_type": "execute_result"
    }
   ],
   "execution_count": 10
  },
  {
   "metadata": {
    "ExecuteTime": {
     "end_time": "2024-05-23T12:20:21.952459Z",
     "start_time": "2024-05-23T12:20:21.933460Z"
    }
   },
   "cell_type": "code",
   "source": "",
   "id": "4d2c1b9c63ee99f",
   "outputs": [],
   "execution_count": 3
  },
  {
   "metadata": {},
   "cell_type": "code",
   "outputs": [],
   "execution_count": null,
   "source": "",
   "id": "a506fcf8baf0de9a"
  }
 ],
 "metadata": {
  "kernelspec": {
   "display_name": "Python 3",
   "language": "python",
   "name": "python3"
  },
  "language_info": {
   "codemirror_mode": {
    "name": "ipython",
    "version": 2
   },
   "file_extension": ".py",
   "mimetype": "text/x-python",
   "name": "python",
   "nbconvert_exporter": "python",
   "pygments_lexer": "ipython2",
   "version": "2.7.6"
  }
 },
 "nbformat": 4,
 "nbformat_minor": 5
}
